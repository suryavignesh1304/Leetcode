{
 "cells": [
  {
   "cell_type": "markdown",
   "metadata": {},
   "source": [
    "## Question:Minimum Index Sum of Two Lists"
   ]
  },
  {
   "cell_type": "markdown",
   "metadata": {},
   "source": [
    "Given two arrays of strings list1 and list2, find the common strings with the least index sum.\n",
    "\n",
    "A common string is a string that appeared in both list1 and list2.\n",
    "\n",
    "A common string with the least index sum is a common string such that if it appeared at list1[i] and list2[j] then i + j should be the minimum value among all the other common strings.\n",
    "\n",
    "Return all the common strings with the least index sum. Return the answer in any order.\n",
    "\n",
    "\n",
    "Example 1:\n",
    "\n",
    "Input: list1 = [\"Shogun\",\"Tapioca Express\",\"Burger King\",\"KFC\"], list2 = [\"Piatti\",\"The Grill at Torrey Pines\",\"Hungry Hunter Steakhouse\",\"Shogun\"]\n",
    "\n",
    "Output: [\"Shogun\"]\n",
    "\n",
    "Explanation: The only common string is \"Shogun\".\n",
    "\n",
    "\n",
    "Example 2:\n",
    "\n",
    "Input: list1 = [\"Shogun\",\"Tapioca Express\",\"Burger King\",\"KFC\"], list2 = [\"KFC\",\"Shogun\",\"Burger King\"]\n",
    "\n",
    "Output: [\"Shogun\"]\n",
    "\n",
    "Explanation: The common string with the least index sum is \"Shogun\" with index sum = (0 + 1) = 1.\n",
    "\n",
    "\n",
    "Example 3:\n",
    "\n",
    "Input: list1 = [\"happy\",\"sad\",\"good\"], list2 = [\"sad\",\"happy\",\"good\"]\n",
    "\n",
    "Output: [\"sad\",\"happy\"]\n",
    "\n",
    "Explanation: There are three common strings:\n",
    "\n",
    "\"happy\" with index sum = (0 + 1) = 1.\n",
    "\n",
    "\"sad\" with index sum = (1 + 0) = 1.\n",
    "\n",
    "\"good\" with index sum = (2 + 2) = 4.\n",
    "\n",
    "The strings with the least index sum are \"sad\" and \"happy\".\n",
    " \n",
    "\n",
    "Constraints:\n",
    "\n",
    "1 <= list1.length, list2.length <= 1000\n",
    "\n",
    "1 <= list1[i].length, list2[i].length <= 30\n",
    "\n",
    "list1[i] and list2[i] consist of spaces ' ' and English letters.\n",
    "\n",
    "All the strings of list1 are unique.\n",
    "\n",
    "All the strings of list2 are unique.\n",
    "\n",
    "There is at least a common string between list1 and list2."
   ]
  },
  {
   "cell_type": "markdown",
   "metadata": {},
   "source": [
    "### Brute Force Approach"
   ]
  },
  {
   "cell_type": "code",
   "execution_count": 3,
   "metadata": {},
   "outputs": [
    {
     "data": {
      "text/plain": [
       "['Shogun']"
      ]
     },
     "execution_count": 3,
     "metadata": {},
     "output_type": "execute_result"
    }
   ],
   "source": [
    "class Solution:\n",
    "    def findRestaurant(self, list1: list[str], list2: list[str]) -> list[str]:\n",
    "        min_sum = float('inf')\n",
    "        result = []\n",
    "        for i in range(len(list1)):\n",
    "            for j in range(len(list2)):\n",
    "                if list1[i] == list2[j]:\n",
    "                    if (i + j) < min_sum:\n",
    "                        min_sum = (i + j)\n",
    "                        result = [list1[i]]\n",
    "                    elif (i + j) == min_sum:\n",
    "                        result.append(list1[i])\n",
    "        \n",
    "        return result\n",
    "list1 = [\"Shogun\",\"Tapioca Express\",\"Burger King\",\"KFC\"]\n",
    "list2 = [\"Piatti\",\"The Grill at Torrey Pines\",\"Hungry Hunter Steakhouse\",\"Shogun\"]\n",
    "s=Solution()\n",
    "s.findRestaurant(list1,list2)\n"
   ]
  },
  {
   "cell_type": "markdown",
   "metadata": {},
   "source": [
    "this approach take O(n*m) time complexity where n is the length of the list1 and m is the length of list2 so to reduce the time complexity we are gonna use the hash table "
   ]
  },
  {
   "cell_type": "markdown",
   "metadata": {},
   "source": [
    "### Hash Table Approach"
   ]
  },
  {
   "cell_type": "code",
   "execution_count": 4,
   "metadata": {},
   "outputs": [
    {
     "data": {
      "text/plain": [
       "['Shogun']"
      ]
     },
     "execution_count": 4,
     "metadata": {},
     "output_type": "execute_result"
    }
   ],
   "source": [
    "class Solution:\n",
    "    def findRestaurant(self, list1: list[str], list2: list[str]) -> list[str]:\n",
    "        indexes1 = {list1[i]: i for i in range(len(list1))}\n",
    "        indexes2 = {list2[i]: i for i in range(len(list2))}\n",
    "        mini = len(list1) + len(list2)\n",
    "        ans = []\n",
    "        for str1, index1 in indexes1.items():\n",
    "            if str1 in indexes2:\n",
    "                index2 = indexes2[str1]\n",
    "                if index1 + index2 < mini:\n",
    "                    mini = index1 + index2\n",
    "                    ans = [str1]\n",
    "                elif index1 + index2 == mini:\n",
    "                    ans.append(str1)\n",
    "        return ans\n",
    "list1 = [\"Shogun\",\"Tapioca Express\",\"Burger King\",\"KFC\"]\n",
    "list2 = [\"Piatti\",\"The Grill at Torrey Pines\",\"Hungry Hunter Steakhouse\",\"Shogun\"]\n",
    "s=Solution()\n",
    "s.findRestaurant(list1,list2)"
   ]
  }
 ],
 "metadata": {
  "kernelspec": {
   "display_name": "Python 3",
   "language": "python",
   "name": "python3"
  },
  "language_info": {
   "codemirror_mode": {
    "name": "ipython",
    "version": 3
   },
   "file_extension": ".py",
   "mimetype": "text/x-python",
   "name": "python",
   "nbconvert_exporter": "python",
   "pygments_lexer": "ipython3",
   "version": "3.12.0"
  }
 },
 "nbformat": 4,
 "nbformat_minor": 2
}
