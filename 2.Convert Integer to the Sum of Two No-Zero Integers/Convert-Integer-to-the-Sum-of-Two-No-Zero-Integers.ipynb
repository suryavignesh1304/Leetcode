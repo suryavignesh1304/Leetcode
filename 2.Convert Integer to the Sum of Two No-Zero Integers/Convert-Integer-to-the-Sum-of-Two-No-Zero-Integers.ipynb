{
 "cells": [
  {
   "cell_type": "markdown",
   "metadata": {},
   "source": [
    "## Question:Convert Integer to the Sum of Two No-Zero Integers"
   ]
  },
  {
   "cell_type": "markdown",
   "metadata": {},
   "source": [
    "No-Zero integer is a positive integer that does not contain any 0 in its decimal representation.\n",
    "\n",
    "Given an integer n, return a list of two integers [a, b] where:\n",
    "\n",
    "a and b are No-Zero integers.\n",
    "\n",
    "a + b = n\n",
    "\n",
    "The test cases are generated so that there is at least one valid solution. If there are many valid solutions, you can return any of them.\n",
    "\n",
    "\n",
    "Example 1:\n",
    "\n",
    "Input: n = 2\n",
    "\n",
    "Output: [1,1]\n",
    "\n",
    "Explanation: Let a = 1 and b = 1.\n",
    "\n",
    "Both a and b are no-zero integers, and a + b = 2 = n.\n",
    "\n",
    "Example 2:\n",
    "\n",
    "Input: n = 11\n",
    "\n",
    "Output: [2,9]\n",
    "\n",
    "Explanation: Let a = 2 and b = 9.\n",
    "\n",
    "Both a and b are no-zero integers, and a + b = 9 = n.\n",
    "\n",
    "Note that there are other valid answers as [8, 3] that can be accepted.\n",
    "\n",
    "Constraints:\n",
    "\n",
    "2 <= n <= 104"
   ]
  },
  {
   "cell_type": "markdown",
   "metadata": {},
   "source": [
    "## Solution:\n",
    "Convert the number into string and check if there is a zero in it if not add the values to list \n",
    "\n",
    "check the same for n-i as well and add that value to the string\n",
    "\n",
    "write the loop from 1,n and check if i and n-i have zero in them if they don't have zeros then add them to list and return them\n"
   ]
  },
  {
   "cell_type": "code",
   "execution_count": 1,
   "metadata": {},
   "outputs": [
    {
     "data": {
      "text/plain": [
       "[2, 9]"
      ]
     },
     "execution_count": 1,
     "metadata": {},
     "output_type": "execute_result"
    }
   ],
   "source": [
    "class Solution:\n",
    "    def getNoZeroIntegers(self, n: int) -> list[int]:\n",
    "        for i in range(1 , n):\n",
    "            if ('0' not in str(i)) and ('0' not in str(n-i)) :\n",
    "                return [i , n - i]\n",
    "            \n",
    "s=Solution()\n",
    "s.getNoZeroIntegers(11)"
   ]
  }
 ],
 "metadata": {
  "kernelspec": {
   "display_name": "Python 3",
   "language": "python",
   "name": "python3"
  },
  "language_info": {
   "codemirror_mode": {
    "name": "ipython",
    "version": 3
   },
   "file_extension": ".py",
   "mimetype": "text/x-python",
   "name": "python",
   "nbconvert_exporter": "python",
   "pygments_lexer": "ipython3",
   "version": "3.12.0"
  }
 },
 "nbformat": 4,
 "nbformat_minor": 2
}
